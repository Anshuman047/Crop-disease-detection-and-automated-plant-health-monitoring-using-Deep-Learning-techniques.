{
  "cells": [
    {
      "cell_type": "code",
      "execution_count": 1,
      "metadata": {
        "id": "jmrsnZW_P82k"
      },
      "outputs": [
        {
          "name": "stderr",
          "output_type": "stream",
          "text": [
            "2024-04-05 12:18:19.869386: I tensorflow/core/util/port.cc:113] oneDNN custom operations are on. You may see slightly different numerical results due to floating-point round-off errors from different computation orders. To turn them off, set the environment variable `TF_ENABLE_ONEDNN_OPTS=0`.\n",
            "2024-04-05 12:18:19.897418: E external/local_xla/xla/stream_executor/cuda/cuda_dnn.cc:9261] Unable to register cuDNN factory: Attempting to register factory for plugin cuDNN when one has already been registered\n",
            "2024-04-05 12:18:19.897446: E external/local_xla/xla/stream_executor/cuda/cuda_fft.cc:607] Unable to register cuFFT factory: Attempting to register factory for plugin cuFFT when one has already been registered\n",
            "2024-04-05 12:18:19.898160: E external/local_xla/xla/stream_executor/cuda/cuda_blas.cc:1515] Unable to register cuBLAS factory: Attempting to register factory for plugin cuBLAS when one has already been registered\n",
            "2024-04-05 12:18:19.902974: I tensorflow/core/platform/cpu_feature_guard.cc:182] This TensorFlow binary is optimized to use available CPU instructions in performance-critical operations.\n",
            "To enable the following instructions: AVX2 AVX_VNNI FMA, in other operations, rebuild TensorFlow with the appropriate compiler flags.\n",
            "2024-04-05 12:18:20.443084: W tensorflow/compiler/tf2tensorrt/utils/py_utils.cc:38] TF-TRT Warning: Could not find TensorRT\n"
          ]
        }
      ],
      "source": [
        "from keras.layers import Input, Lambda, Dense, Flatten\n",
        "from keras.models import Model\n",
        "from keras.applications.vgg16 import VGG16\n",
        "from keras.applications.vgg16 import preprocess_input\n",
        "from keras.preprocessing import image\n",
        "from keras.preprocessing.image import ImageDataGenerator\n",
        "from keras.models import Sequential\n",
        "from keras import optimizers\n",
        "import numpy as np\n",
        "from glob import glob\n",
        "from pathlib import Path\n",
        "import matplotlib.pyplot as plt\n",
        "import tensorflow as tf\n",
        "from keras.models import load_model"
      ]
    },
    {
      "cell_type": "code",
      "execution_count": 2,
      "metadata": {
        "colab": {
          "base_uri": "https://localhost:8080/"
        },
        "id": "po0HVoYsiAXB",
        "outputId": "d06511df-ff9e-4847-8db9-0d0e4eea1d5b"
      },
      "outputs": [
        {
          "name": "stdout",
          "output_type": "stream",
          "text": [
            "1 Physical GPUs, 1 Logical GPUs\n"
          ]
        },
        {
          "name": "stderr",
          "output_type": "stream",
          "text": [
            "2024-04-05 12:18:21.280576: I external/local_xla/xla/stream_executor/cuda/cuda_executor.cc:901] successful NUMA node read from SysFS had negative value (-1), but there must be at least one NUMA node, so returning NUMA node zero. See more at https://github.com/torvalds/linux/blob/v6.0/Documentation/ABI/testing/sysfs-bus-pci#L344-L355\n",
            "2024-04-05 12:18:21.309260: I external/local_xla/xla/stream_executor/cuda/cuda_executor.cc:901] successful NUMA node read from SysFS had negative value (-1), but there must be at least one NUMA node, so returning NUMA node zero. See more at https://github.com/torvalds/linux/blob/v6.0/Documentation/ABI/testing/sysfs-bus-pci#L344-L355\n",
            "2024-04-05 12:18:21.309438: I external/local_xla/xla/stream_executor/cuda/cuda_executor.cc:901] successful NUMA node read from SysFS had negative value (-1), but there must be at least one NUMA node, so returning NUMA node zero. See more at https://github.com/torvalds/linux/blob/v6.0/Documentation/ABI/testing/sysfs-bus-pci#L344-L355\n",
            "2024-04-05 12:18:21.310545: I external/local_xla/xla/stream_executor/cuda/cuda_executor.cc:901] successful NUMA node read from SysFS had negative value (-1), but there must be at least one NUMA node, so returning NUMA node zero. See more at https://github.com/torvalds/linux/blob/v6.0/Documentation/ABI/testing/sysfs-bus-pci#L344-L355\n",
            "2024-04-05 12:18:21.310671: I external/local_xla/xla/stream_executor/cuda/cuda_executor.cc:901] successful NUMA node read from SysFS had negative value (-1), but there must be at least one NUMA node, so returning NUMA node zero. See more at https://github.com/torvalds/linux/blob/v6.0/Documentation/ABI/testing/sysfs-bus-pci#L344-L355\n",
            "2024-04-05 12:18:21.310738: I external/local_xla/xla/stream_executor/cuda/cuda_executor.cc:901] successful NUMA node read from SysFS had negative value (-1), but there must be at least one NUMA node, so returning NUMA node zero. See more at https://github.com/torvalds/linux/blob/v6.0/Documentation/ABI/testing/sysfs-bus-pci#L344-L355\n",
            "2024-04-05 12:18:21.367064: I external/local_xla/xla/stream_executor/cuda/cuda_executor.cc:901] successful NUMA node read from SysFS had negative value (-1), but there must be at least one NUMA node, so returning NUMA node zero. See more at https://github.com/torvalds/linux/blob/v6.0/Documentation/ABI/testing/sysfs-bus-pci#L344-L355\n",
            "2024-04-05 12:18:21.367201: I external/local_xla/xla/stream_executor/cuda/cuda_executor.cc:901] successful NUMA node read from SysFS had negative value (-1), but there must be at least one NUMA node, so returning NUMA node zero. See more at https://github.com/torvalds/linux/blob/v6.0/Documentation/ABI/testing/sysfs-bus-pci#L344-L355\n",
            "2024-04-05 12:18:21.367281: I external/local_xla/xla/stream_executor/cuda/cuda_executor.cc:901] successful NUMA node read from SysFS had negative value (-1), but there must be at least one NUMA node, so returning NUMA node zero. See more at https://github.com/torvalds/linux/blob/v6.0/Documentation/ABI/testing/sysfs-bus-pci#L344-L355\n",
            "2024-04-05 12:18:21.367351: I tensorflow/core/common_runtime/gpu/gpu_device.cc:1929] Created device /job:localhost/replica:0/task:0/device:GPU:0 with 6300 MB memory:  -> device: 0, name: NVIDIA GeForce RTX 4060 Laptop GPU, pci bus id: 0000:01:00.0, compute capability: 8.9\n"
          ]
        }
      ],
      "source": [
        "gpus = tf.config.list_physical_devices('GPU')\n",
        "if gpus:\n",
        "  try:\n",
        "    for gpu in gpus:\n",
        "      tf.config.experimental.set_memory_growth(gpu, True)\n",
        "    logical_gpus = tf.config.list_logical_devices('GPU')\n",
        "    print(len(gpus), \"Physical GPUs,\", len(logical_gpus), \"Logical GPUs\")\n",
        "  except RuntimeError as e:\n",
        "    print(e)\n"
      ]
    },
    {
      "cell_type": "code",
      "execution_count": 3,
      "metadata": {
        "id": "rq7f-JJEpNxs"
      },
      "outputs": [],
      "source": [
        "train_path = 'FNNPK'"
      ]
    },
    {
      "cell_type": "code",
      "execution_count": 4,
      "metadata": {
        "id": "nad9rLsKpN3q"
      },
      "outputs": [],
      "source": [
        "IMAGE_SIZE = [224, 224]"
      ]
    },
    {
      "cell_type": "code",
      "execution_count": 5,
      "metadata": {
        "colab": {
          "base_uri": "https://localhost:8080/"
        },
        "id": "BpbWScjcp1Ja",
        "outputId": "2b25c778-e8b4-479b-a505-4e17e483ed83"
      },
      "outputs": [
        {
          "name": "stdout",
          "output_type": "stream",
          "text": [
            "Found 208 files belonging to 4 classes.\n",
            "Using 167 files for training.\n",
            "Found 208 files belonging to 4 classes.\n",
            "Using 41 files for validation.\n"
          ]
        }
      ],
      "source": [
        "train_dataset = tf.keras.utils.image_dataset_from_directory(\n",
        "    train_path,\n",
        "    color_mode='rgb',\n",
        "    batch_size=32,\n",
        "    image_size=(224, 224),\n",
        "    shuffle=True,\n",
        "    seed=123,\n",
        "    validation_split=0.2,\n",
        "    subset='training'\n",
        ")\n",
        "\n",
        "test_dataset = tf.keras.utils.image_dataset_from_directory(\n",
        "    train_path,\n",
        "    color_mode='rgb',\n",
        "    batch_size=32,\n",
        "    image_size=(224, 224),\n",
        "    shuffle=True,\n",
        "    seed=344,\n",
        "    validation_split=0.2,\n",
        "    subset='validation'\n",
        ")"
      ]
    },
    {
      "cell_type": "code",
      "execution_count": 6,
      "metadata": {
        "colab": {
          "base_uri": "https://localhost:8080/"
        },
        "id": "dRv-Z_w2pfiy",
        "outputId": "d650612f-8250-475c-c10a-95e999fed323"
      },
      "outputs": [],
      "source": [
        "vgg = VGG16(input_shape=IMAGE_SIZE + [3], weights='imagenet', include_top= False)\n",
        "\n",
        "vgg.trainable = False"
      ]
    },
    {
      "cell_type": "code",
      "execution_count": 7,
      "metadata": {
        "colab": {
          "base_uri": "https://localhost:8080/"
        },
        "id": "wKK_azFqprJ6",
        "outputId": "3e656d31-98e0-49e0-fa25-1483c8e5de01"
      },
      "outputs": [
        {
          "name": "stderr",
          "output_type": "stream",
          "text": [
            "2024-04-05 12:18:22.961461: I external/local_xla/xla/stream_executor/cuda/cuda_dnn.cc:454] Loaded cuDNN version 8907\n",
            "2024-04-05 12:18:24.943690: W external/local_tsl/tsl/framework/bfc_allocator.cc:366] Garbage collection: deallocate free memory regions (i.e., allocations) so that we can re-allocate a larger region to avoid OOM due to memory fragmentation. If you see this message frequently, you are running near the threshold of the available device memory and re-allocation may incur great performance overhead. You may try smaller batch sizes to observe the performance impact. Set TF_ENABLE_GPU_GARBAGE_COLLECTION=false if you'd like to disable this feature.\n"
          ]
        },
        {
          "name": "stdout",
          "output_type": "stream",
          "text": [
            "(32, 7, 7, 512)\n"
          ]
        }
      ],
      "source": [
        "image_batch, label_batch = next(iter(train_dataset))\n",
        "feature_batch = vgg(image_batch)\n",
        "print(feature_batch.shape)"
      ]
    },
    {
      "cell_type": "code",
      "execution_count": 8,
      "metadata": {
        "colab": {
          "base_uri": "https://localhost:8080/"
        },
        "id": "SLmAuxe0pnMM",
        "outputId": "26c0f207-cdc3-40c6-bd5f-9330af6378aa"
      },
      "outputs": [
        {
          "name": "stdout",
          "output_type": "stream",
          "text": [
            "4\n"
          ]
        }
      ],
      "source": [
        "folders = glob('FNNPK/*')\n",
        "print(len(folders))"
      ]
    },
    {
      "cell_type": "code",
      "execution_count": 9,
      "metadata": {
        "colab": {
          "base_uri": "https://localhost:8080/"
        },
        "id": "sgqVYhGKtaaO",
        "outputId": "c99e28ab-6ac1-4bbd-a631-68447515ac14"
      },
      "outputs": [
        {
          "name": "stdout",
          "output_type": "stream",
          "text": [
            "(32, 4)\n"
          ]
        }
      ],
      "source": [
        "global_average_layer = tf.keras.layers.GlobalAveragePooling2D()\n",
        "feature_batch_average = global_average_layer(feature_batch)\n",
        "prediction_layer = tf.keras.layers.Dense(len(folders), activation='softmax')\n",
        "prediction_batch = prediction_layer(feature_batch_average)\n",
        "print(prediction_batch.shape)"
      ]
    },
    {
      "cell_type": "code",
      "execution_count": 10,
      "metadata": {
        "colab": {
          "base_uri": "https://localhost:8080/"
        },
        "id": "9cTg4qUBpzOR",
        "outputId": "58b4d89e-2a62-478e-d858-01bcbc7b374a"
      },
      "outputs": [
        {
          "name": "stdout",
          "output_type": "stream",
          "text": [
            "(None, 4)\n",
            "Model: \"model\"\n",
            "_________________________________________________________________\n",
            " Layer (type)                Output Shape              Param #   \n",
            "=================================================================\n",
            " input_1 (InputLayer)        [(None, 224, 224, 3)]     0         \n",
            "                                                                 \n",
            " sequential (Sequential)     (None, None, None, 3)     0         \n",
            "                                                                 \n",
            " tf.__operators__.getitem (  (None, None, None, 3)     0         \n",
            " SlicingOpLambda)                                                \n",
            "                                                                 \n",
            " tf.nn.bias_add (TFOpLambda  (None, None, None, 3)     0         \n",
            " )                                                               \n",
            "                                                                 \n",
            " vgg16 (Functional)          (None, 7, 7, 512)         14714688  \n",
            "                                                                 \n",
            " global_average_pooling2d (  (None, 512)               0         \n",
            " GlobalAveragePooling2D)                                         \n",
            "                                                                 \n",
            " dropout (Dropout)           (None, 512)               0         \n",
            "                                                                 \n",
            " flatten (Flatten)           (None, 512)               0         \n",
            "                                                                 \n",
            " dense (Dense)               (None, 4)                 2052      \n",
            "                                                                 \n",
            "=================================================================\n",
            "Total params: 14716740 (56.14 MB)\n",
            "Trainable params: 2052 (8.02 KB)\n",
            "Non-trainable params: 14714688 (56.13 MB)\n",
            "_________________________________________________________________\n"
          ]
        }
      ],
      "source": [
        "factor = 0.2\n",
        "height_factor = 0.3\n",
        "data_augmentation = tf.keras.Sequential([\n",
        "  tf.keras.layers.RandomFlip('horizontal_and_vertical'),\n",
        "  tf.keras.layers.RandomRotation(0.2),\n",
        "  tf.keras.layers.RandomHeight(factor, interpolation='bilinear', seed=42),\n",
        "  tf.keras.layers.RandomWidth(factor, interpolation='nearest', seed=42),\n",
        "  tf.keras.layers.RandomBrightness(factor, value_range=(40, 90), seed=42)\n",
        "])\n",
        "\n",
        "inputs = vgg.input\n",
        "x = data_augmentation(inputs)\n",
        "x = preprocess_input(x)\n",
        "x = vgg(x, training=False)\n",
        "x = global_average_layer(x)\n",
        "x = tf.keras.layers.Dropout(0.2)(x)\n",
        "x = Flatten()(x)\n",
        "outputs = prediction_layer(x)\n",
        "model = Model(inputs=inputs, outputs=outputs)\n",
        "print(model.output.shape)\n",
        "model.summary()"
      ]
    },
    {
      "cell_type": "code",
      "execution_count": 11,
      "metadata": {
        "id": "J89zqm42p1Ae"
      },
      "outputs": [],
      "source": [
        "model.compile(\n",
        "  loss='sparse_categorical_crossentropy',\n",
        "  optimizer = 'adam',\n",
        "  metrics=['accuracy']\n",
        ")"
      ]
    },
    {
      "cell_type": "code",
      "execution_count": 12,
      "metadata": {
        "colab": {
          "base_uri": "https://localhost:8080/",
          "height": 496
        },
        "id": "2T1oyuBrVfzj",
        "outputId": "28339ccd-cace-4b55-872d-d9f656b914c3"
      },
      "outputs": [
        {
          "name": "stdout",
          "output_type": "stream",
          "text": [
            "Epoch 1/50\n",
            "1/6 [====>.........................] - ETA: 1:00 - loss: 2.8477 - accuracy: 0.2812"
          ]
        },
        {
          "name": "stderr",
          "output_type": "stream",
          "text": [
            "2024-04-05 12:18:52.653460: I external/local_xla/xla/service/service.cc:168] XLA service 0x709684c7aa50 initialized for platform CUDA (this does not guarantee that XLA will be used). Devices:\n",
            "2024-04-05 12:18:52.653483: I external/local_xla/xla/service/service.cc:176]   StreamExecutor device (0): NVIDIA GeForce RTX 4060 Laptop GPU, Compute Capability 8.9\n",
            "2024-04-05 12:18:52.657486: I tensorflow/compiler/mlir/tensorflow/utils/dump_mlir_util.cc:269] disabling MLIR crash reproducer, set env var `MLIR_CRASH_REPRODUCER_DIRECTORY` to enable.\n",
            "WARNING: All log messages before absl::InitializeLog() is called are written to STDERR\n",
            "I0000 00:00:1712299732.730426   10876 device_compiler.h:186] Compiled cluster using XLA!  This line is logged at most once for the lifetime of the process.\n"
          ]
        },
        {
          "name": "stdout",
          "output_type": "stream",
          "text": [
            "4/6 [===================>..........] - ETA: 12s - loss: 2.5044 - accuracy: 0.3281"
          ]
        },
        {
          "name": "stderr",
          "output_type": "stream",
          "text": [
            "2024-04-05 12:19:13.274077: W external/local_tsl/tsl/framework/bfc_allocator.cc:296] Allocator (GPU_0_bfc) ran out of memory trying to allocate 2.34GiB with freed_by_count=0. The caller indicates that this is not a failure, but this may mean that there could be performance gains if more memory were available.\n",
            "2024-04-05 12:19:14.546509: W external/local_tsl/tsl/framework/bfc_allocator.cc:296] Allocator (GPU_0_bfc) ran out of memory trying to allocate 2.34GiB with freed_by_count=0. The caller indicates that this is not a failure, but this may mean that there could be performance gains if more memory were available.\n"
          ]
        },
        {
          "name": "stdout",
          "output_type": "stream",
          "text": [
            "6/6 [==============================] - 56s 9s/step - loss: 2.3139 - accuracy: 0.3293 - val_loss: 1.9919 - val_accuracy: 0.4634\n",
            "Epoch 2/50\n",
            "1/6 [====>.........................] - ETA: 17s - loss: 1.3838 - accuracy: 0.5625"
          ]
        },
        {
          "name": "stderr",
          "output_type": "stream",
          "text": [
            "2024-04-05 12:19:41.169622: W external/local_tsl/tsl/framework/bfc_allocator.cc:296] Allocator (GPU_0_bfc) ran out of memory trying to allocate 2.41GiB with freed_by_count=0. The caller indicates that this is not a failure, but this may mean that there could be performance gains if more memory were available.\n",
            "2024-04-05 12:19:42.489610: W external/local_tsl/tsl/framework/bfc_allocator.cc:296] Allocator (GPU_0_bfc) ran out of memory trying to allocate 2.41GiB with freed_by_count=0. The caller indicates that this is not a failure, but this may mean that there could be performance gains if more memory were available.\n"
          ]
        },
        {
          "name": "stdout",
          "output_type": "stream",
          "text": [
            "6/6 [==============================] - 37s 7s/step - loss: 1.5307 - accuracy: 0.4850 - val_loss: 1.7051 - val_accuracy: 0.5366\n",
            "Epoch 3/50\n",
            "6/6 [==============================] - 31s 5s/step - loss: 1.6271 - accuracy: 0.4251 - val_loss: 1.5735 - val_accuracy: 0.6098\n",
            "Epoch 4/50\n",
            "6/6 [==============================] - 27s 4s/step - loss: 1.4844 - accuracy: 0.5150 - val_loss: 1.3090 - val_accuracy: 0.6585\n",
            "Epoch 5/50\n",
            "6/6 [==============================] - 25s 4s/step - loss: 1.5335 - accuracy: 0.4790 - val_loss: 1.2484 - val_accuracy: 0.6341\n",
            "Epoch 6/50\n",
            "6/6 [==============================] - 13s 1s/step - loss: 1.4558 - accuracy: 0.5150 - val_loss: 1.3063 - val_accuracy: 0.6829\n",
            "Epoch 7/50\n",
            "1/6 [====>.........................] - ETA: 2s - loss: 1.1099 - accuracy: 0.4688"
          ]
        },
        {
          "name": "stderr",
          "output_type": "stream",
          "text": [
            "2024-04-05 12:21:50.126990: W external/local_tsl/tsl/framework/bfc_allocator.cc:296] Allocator (GPU_0_bfc) ran out of memory trying to allocate 2.41GiB with freed_by_count=0. The caller indicates that this is not a failure, but this may mean that there could be performance gains if more memory were available.\n",
            "2024-04-05 12:21:51.457882: W external/local_tsl/tsl/framework/bfc_allocator.cc:296] Allocator (GPU_0_bfc) ran out of memory trying to allocate 2.41GiB with freed_by_count=0. The caller indicates that this is not a failure, but this may mean that there could be performance gains if more memory were available.\n"
          ]
        },
        {
          "name": "stdout",
          "output_type": "stream",
          "text": [
            "6/6 [==============================] - 25s 5s/step - loss: 1.2029 - accuracy: 0.5868 - val_loss: 1.1305 - val_accuracy: 0.6829\n",
            "Epoch 8/50\n",
            "1/6 [====>.........................] - ETA: 2s - loss: 1.0470 - accuracy: 0.5625"
          ]
        },
        {
          "name": "stderr",
          "output_type": "stream",
          "text": [
            "2024-04-05 12:22:15.182109: W external/local_tsl/tsl/framework/bfc_allocator.cc:296] Allocator (GPU_0_bfc) ran out of memory trying to allocate 2.34GiB with freed_by_count=0. The caller indicates that this is not a failure, but this may mean that there could be performance gains if more memory were available.\n",
            "2024-04-05 12:22:16.481580: W external/local_tsl/tsl/framework/bfc_allocator.cc:296] Allocator (GPU_0_bfc) ran out of memory trying to allocate 2.34GiB with freed_by_count=0. The caller indicates that this is not a failure, but this may mean that there could be performance gains if more memory were available.\n"
          ]
        },
        {
          "name": "stdout",
          "output_type": "stream",
          "text": [
            "6/6 [==============================] - 13s 2s/step - loss: 0.9956 - accuracy: 0.5988 - val_loss: 1.1324 - val_accuracy: 0.7317\n",
            "Epoch 9/50\n"
          ]
        },
        {
          "name": "stderr",
          "output_type": "stream",
          "text": [
            "2024-04-05 12:22:27.705827: W external/local_tsl/tsl/framework/bfc_allocator.cc:296] Allocator (GPU_0_bfc) ran out of memory trying to allocate 2.48GiB with freed_by_count=0. The caller indicates that this is not a failure, but this may mean that there could be performance gains if more memory were available.\n",
            "2024-04-05 12:22:29.055703: W external/local_tsl/tsl/framework/bfc_allocator.cc:296] Allocator (GPU_0_bfc) ran out of memory trying to allocate 2.48GiB with freed_by_count=0. The caller indicates that this is not a failure, but this may mean that there could be performance gains if more memory were available.\n"
          ]
        },
        {
          "name": "stdout",
          "output_type": "stream",
          "text": [
            "6/6 [==============================] - 18s 3s/step - loss: 1.0479 - accuracy: 0.5629 - val_loss: 1.1181 - val_accuracy: 0.7561\n",
            "Epoch 10/50\n",
            "6/6 [==============================] - 19s 4s/step - loss: 1.0504 - accuracy: 0.5988 - val_loss: 1.0503 - val_accuracy: 0.7561\n",
            "Epoch 11/50\n",
            "6/6 [==============================] - 16s 3s/step - loss: 0.9502 - accuracy: 0.6347 - val_loss: 0.9408 - val_accuracy: 0.7561\n",
            "Epoch 12/50\n",
            "6/6 [==============================] - 14s 2s/step - loss: 0.8922 - accuracy: 0.6467 - val_loss: 0.9385 - val_accuracy: 0.7805\n",
            "Epoch 13/50\n",
            "6/6 [==============================] - 27s 4s/step - loss: 0.8930 - accuracy: 0.6647 - val_loss: 0.9517 - val_accuracy: 0.7805\n",
            "Epoch 14/50\n",
            "6/6 [==============================] - 5s 572ms/step - loss: 0.7948 - accuracy: 0.7126 - val_loss: 1.0126 - val_accuracy: 0.7805\n",
            "Epoch 15/50\n",
            "6/6 [==============================] - 5s 836ms/step - loss: 0.7963 - accuracy: 0.6946 - val_loss: 0.9744 - val_accuracy: 0.7805\n",
            "Epoch 16/50\n",
            "6/6 [==============================] - 12s 2s/step - loss: 0.7935 - accuracy: 0.6826 - val_loss: 0.8764 - val_accuracy: 0.7805\n",
            "Epoch 17/50\n",
            "6/6 [==============================] - 12s 2s/step - loss: 0.6346 - accuracy: 0.7246 - val_loss: 0.9383 - val_accuracy: 0.8049\n",
            "Epoch 18/50\n",
            "6/6 [==============================] - 14s 3s/step - loss: 0.7247 - accuracy: 0.7246 - val_loss: 1.1206 - val_accuracy: 0.7317\n",
            "Epoch 19/50\n",
            "6/6 [==============================] - 3s 546ms/step - loss: 0.5829 - accuracy: 0.7665 - val_loss: 0.9868 - val_accuracy: 0.7561\n",
            "Epoch 20/50\n",
            "6/6 [==============================] - 14s 2s/step - loss: 0.5797 - accuracy: 0.7665 - val_loss: 0.8990 - val_accuracy: 0.8293\n",
            "Epoch 21/50\n",
            "6/6 [==============================] - 4s 202ms/step - loss: 0.7411 - accuracy: 0.7665 - val_loss: 0.8624 - val_accuracy: 0.8293\n",
            "Epoch 22/50\n",
            "6/6 [==============================] - 2s 216ms/step - loss: 0.5758 - accuracy: 0.7844 - val_loss: 0.9722 - val_accuracy: 0.7317\n",
            "Epoch 23/50\n",
            "6/6 [==============================] - 7s 1s/step - loss: 0.6355 - accuracy: 0.7425 - val_loss: 1.0456 - val_accuracy: 0.7317\n",
            "Epoch 24/50\n",
            "6/6 [==============================] - 5s 970ms/step - loss: 0.6353 - accuracy: 0.7844 - val_loss: 1.0639 - val_accuracy: 0.7317\n",
            "Epoch 25/50\n",
            "6/6 [==============================] - 4s 662ms/step - loss: 0.5742 - accuracy: 0.7844 - val_loss: 0.9405 - val_accuracy: 0.7317\n",
            "Epoch 26/50\n",
            "6/6 [==============================] - 11s 2s/step - loss: 0.5626 - accuracy: 0.8024 - val_loss: 0.8626 - val_accuracy: 0.8049\n",
            "Epoch 27/50\n",
            "6/6 [==============================] - 3s 572ms/step - loss: 0.5799 - accuracy: 0.7365 - val_loss: 0.8319 - val_accuracy: 0.8293\n",
            "Epoch 28/50\n",
            "6/6 [==============================] - 6s 1s/step - loss: 0.4731 - accuracy: 0.8084 - val_loss: 0.8387 - val_accuracy: 0.8293\n",
            "Epoch 29/50\n",
            "6/6 [==============================] - 6s 1s/step - loss: 0.4330 - accuracy: 0.8204 - val_loss: 0.8429 - val_accuracy: 0.8293\n",
            "Epoch 30/50\n",
            "6/6 [==============================] - 7s 680ms/step - loss: 0.5159 - accuracy: 0.8144 - val_loss: 0.8186 - val_accuracy: 0.8293\n",
            "Epoch 31/50\n",
            "6/6 [==============================] - 6s 1s/step - loss: 0.5029 - accuracy: 0.8084 - val_loss: 0.8156 - val_accuracy: 0.8293\n",
            "Epoch 32/50\n",
            "6/6 [==============================] - 2s 275ms/step - loss: 0.4542 - accuracy: 0.8024 - val_loss: 0.8243 - val_accuracy: 0.7805\n",
            "Epoch 33/50\n",
            "6/6 [==============================] - 6s 1s/step - loss: 0.4264 - accuracy: 0.8443 - val_loss: 0.8666 - val_accuracy: 0.7317\n",
            "Epoch 34/50\n",
            "6/6 [==============================] - 6s 1s/step - loss: 0.5942 - accuracy: 0.7305 - val_loss: 0.8574 - val_accuracy: 0.8293\n",
            "Epoch 35/50\n",
            "6/6 [==============================] - 6s 205ms/step - loss: 0.3919 - accuracy: 0.8323 - val_loss: 0.9071 - val_accuracy: 0.8293\n",
            "Epoch 36/50\n",
            "6/6 [==============================] - 6s 1s/step - loss: 0.4843 - accuracy: 0.7964 - val_loss: 0.8827 - val_accuracy: 0.8049\n",
            "Epoch 37/50\n",
            "6/6 [==============================] - 5s 804ms/step - loss: 0.4831 - accuracy: 0.8144 - val_loss: 0.8060 - val_accuracy: 0.8293\n",
            "Epoch 38/50\n",
            "6/6 [==============================] - 3s 517ms/step - loss: 0.5577 - accuracy: 0.7725 - val_loss: 0.8277 - val_accuracy: 0.8293\n",
            "Epoch 39/50\n",
            "6/6 [==============================] - 5s 477ms/step - loss: 0.4232 - accuracy: 0.8263 - val_loss: 0.9856 - val_accuracy: 0.7561\n",
            "Epoch 40/50\n",
            "6/6 [==============================] - 11s 2s/step - loss: 0.3505 - accuracy: 0.8802 - val_loss: 1.0087 - val_accuracy: 0.7317\n",
            "Epoch 41/50\n",
            "6/6 [==============================] - 4s 230ms/step - loss: 0.3566 - accuracy: 0.8623 - val_loss: 0.8922 - val_accuracy: 0.7317\n",
            "Epoch 42/50\n",
            "6/6 [==============================] - 9s 2s/step - loss: 0.4588 - accuracy: 0.8443 - val_loss: 0.8207 - val_accuracy: 0.8049\n",
            "Epoch 43/50\n",
            "6/6 [==============================] - 3s 438ms/step - loss: 0.3840 - accuracy: 0.8503 - val_loss: 0.9266 - val_accuracy: 0.7805\n",
            "Epoch 44/50\n",
            "6/6 [==============================] - 2s 278ms/step - loss: 0.3772 - accuracy: 0.8443 - val_loss: 1.1306 - val_accuracy: 0.7317\n",
            "Epoch 45/50\n",
            "6/6 [==============================] - 1s 186ms/step - loss: 0.4265 - accuracy: 0.8323 - val_loss: 0.9858 - val_accuracy: 0.7317\n",
            "Epoch 46/50\n",
            "6/6 [==============================] - 8s 1s/step - loss: 0.4760 - accuracy: 0.8144 - val_loss: 0.7975 - val_accuracy: 0.8049\n",
            "Epoch 47/50\n",
            "6/6 [==============================] - 3s 462ms/step - loss: 0.3859 - accuracy: 0.8383 - val_loss: 0.7608 - val_accuracy: 0.8293\n",
            "Epoch 48/50\n",
            "6/6 [==============================] - 1s 201ms/step - loss: 0.3462 - accuracy: 0.8503 - val_loss: 0.7796 - val_accuracy: 0.8293\n",
            "Epoch 49/50\n",
            "6/6 [==============================] - 4s 613ms/step - loss: 0.4016 - accuracy: 0.8443 - val_loss: 0.8464 - val_accuracy: 0.8293\n",
            "Epoch 50/50\n",
            "6/6 [==============================] - 2s 318ms/step - loss: 0.4510 - accuracy: 0.8144 - val_loss: 0.9065 - val_accuracy: 0.8293\n"
          ]
        }
      ],
      "source": [
        "r = model.fit(\n",
        "  train_dataset,\n",
        "  validation_data=test_dataset,\n",
        "  epochs=50\n",
        ")"
      ]
    },
    {
      "cell_type": "code",
      "execution_count": 13,
      "metadata": {
        "id": "3a9wuUgVyRFs"
      },
      "outputs": [
        {
          "name": "stderr",
          "output_type": "stream",
          "text": [
            "/home/geneviptopneo/.local/lib/python3.10/site-packages/keras/src/engine/training.py:3103: UserWarning: You are saving your model as an HDF5 file via `model.save()`. This file format is considered legacy. We recommend using instead the native Keras format, e.g. `model.save('my_model.keras')`.\n",
            "  saving_api.save_model(\n"
          ]
        }
      ],
      "source": [
        "model.save('Deficiency_Model.h5')"
      ]
    },
    {
      "cell_type": "code",
      "execution_count": 14,
      "metadata": {
        "id": "dk0NiuwhVndh"
      },
      "outputs": [
        {
          "data": {
            "image/png": "[encoded data removed]",
            "text/plain": [
              "<Figure size 640x480 with 1 Axes>"
            ]
          },
          "metadata": {},
          "output_type": "display_data"
        }
      ],
      "source": [
        "plt.plot(r.history['accuracy'])\n",
        "plt.plot(r.history['val_accuracy'])\n",
        "plt.title('model accuracy')\n",
        "plt.ylabel('accuracy')\n",
        "plt.xlabel('epoch')\n",
        "plt.legend(['train', 'val'], loc='upper left')\n",
        "plt.show()"
      ]
    },
    {
      "cell_type": "code",
      "execution_count": 16,
      "metadata": {
        "id": "Aai1ul1DHmGy"
      },
      "outputs": [
        {
          "data": {
            "text/plain": [
              "['-K', '-N', '-P', 'FN']"
            ]
          },
          "execution_count": 16,
          "metadata": {},
          "output_type": "execute_result"
        }
      ],
      "source": [
        "\n",
        "train_dataset.class_names"
      ]
    }
  ],
  "metadata": {
    "accelerator": "GPU",
    "colab": {
      "gpuType": "T4",
      "provenance": []
    },
    "interpreter": {
      "hash": "916dbcbb3f70747c44a77c7bcd40155683ae19c65e1c03b4aa3499c5328201f1"
    },
    "kernelspec": {
      "display_name": "Python 3.10.12 64-bit",
      "language": "python",
      "name": "python3"
    },
    "language_info": {
      "codemirror_mode": {
        "name": "ipython",
        "version": 3
      },
      "file_extension": ".py",
      "mimetype": "text/x-python",
      "name": "python",
      "nbconvert_exporter": "python",
      "pygments_lexer": "ipython3",
      "version": "3.10.12"
    }
  },
  "nbformat": 4,
  "nbformat_minor": 0
}
