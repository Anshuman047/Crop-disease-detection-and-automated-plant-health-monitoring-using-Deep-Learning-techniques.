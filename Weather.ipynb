{
 "cells": [
  {
   "cell_type": "code",
   "execution_count": 65,
   "id": "5356359d-2ded-4230-8a31-aded82c36bf2",
   "metadata": {},
   "outputs": [],
   "source": [
    "# This function would execute api-call and fetch required informations\n",
    "def weatherForecaste(api_key, cityName):\n",
    "    import requests\n",
    "    from datetime import datetime\n",
    "\n",
    "    # api_key = 'a390a5f6e318fd86010e2a19fdadd761'\n",
    "    # cityName = 'Bhubaneswar'\n",
    "\n",
    "    url = f'http://api.openweathermap.org/data/2.5/weather?q={cityName}&appid={api_key}'\n",
    "\n",
    "    response = requests.get(url)\n",
    "\n",
    "    if response.status_code == 200:\n",
    "        data = response.json()\n",
    "\n",
    "        temperature = data['main']['temp'] #Temperature\n",
    "        humidity = data['main']['humidity'] #Humidity %\n",
    "        description = data['weather'][0]['description'] #Weather-condition\n",
    "        \n",
    "        weather_conditions = data.get('weather', []) #This would fetch the weather-condition's codes used for weatherCondition categorisation \n",
    "        for condition in weather_conditions:\n",
    "            weather_code = condition.get('id')\n",
    "            \n",
    "    \n",
    "        # Conversion of temperature from Kelvin to Celsius\n",
    "        temperature_celsius = temperature - 273.15\n",
    "\n",
    "        # Get the current date and time\n",
    "        current_time = datetime.now().strftime('%Y-%m-%d %H:%M:%S')\n",
    "\n",
    "        # Display the current weather forecast\n",
    "        print(f\"Weather forecast for {cityName} at {current_time}\")\n",
    "        print(\"------------------------------------\")\n",
    "        print(f\"Temperature: {temperature_celsius:.2f}°C\")\n",
    "        print(f\"Humidity: {humidity}%\")\n",
    "        print(f\"Description: {description}\")\n",
    "\n",
    "        # For humidity\n",
    "        category = categorize_humidity(humidity)\n",
    "        print(f\"The humidity level falls under the category: {category}\")\n",
    "        \n",
    "        # For Weather\n",
    "        category2 = categorize_weather(weather_code)\n",
    "        print(f\"The weather forecast :{category2}\")\n",
    "        print(\"Weather Condition Code:\", weather_code)\n",
    "    else:\n",
    "        # Print an error message if the request fails\n",
    "        print(\"Failed to retrieve weather forecast\")"
   ]
  },
  {
   "cell_type": "code",
   "execution_count": 66,
   "id": "4b3fe3b6-829c-468a-b51b-75c9108fa194",
   "metadata": {},
   "outputs": [],
   "source": [
    "def categorize_humidity(humidity):\n",
    "    if humidity < 25:\n",
    "        return \"DESERT\"\n",
    "    elif 25 <= humidity < 40:\n",
    "        return \"SEMI ARID\"\n",
    "    elif 40 <= humidity < 60:\n",
    "        return \"SEMI HUMID\"\n",
    "    else:\n",
    "        return \"HUMID\""
   ]
  },
  {
   "cell_type": "code",
   "execution_count": 67,
   "id": "87eb0415-ce1e-485c-b8a6-e133a1906c7b",
   "metadata": {},
   "outputs": [],
   "source": [
    "#Used weather codes to wrapping up them into common headings\n",
    "def categorize_weather(weather_code):\n",
    "    rain_codes = [\n",
    "        200, 201, 202, 210, 211, 212, 221, 230, 231, 232,  # Thunderstorm\n",
    "        \n",
    "        300, 301, 302, 310, 311, 312, 313, 314, 321, # Drizzle\n",
    "        \n",
    "        500, 501, 502, 503, 504, 511, 520, 521, 522, 531 # Rain\n",
    "    ]\n",
    "    normal_codes = [\n",
    "        701, 711, 721, 731, 741, 751, 761, 762, 771, # Atmosphere\n",
    "        \n",
    "        801, 802, 803, 804 # clouds\n",
    "    ]\n",
    "    sunny_codes = [\n",
    "        800 #clear\n",
    "    ]\n",
    "    wind_codes = [\n",
    "       781 # Turnado\n",
    "    ]\n",
    "    \n",
    "    if weather_code in rain_codes:\n",
    "        return \"RAINY\"\n",
    "    elif weather_code in normal_codes:\n",
    "        return \"NORMAL\"\n",
    "    elif weather_code in sunny_codes:\n",
    "        return \"SUNNY\"\n",
    "    elif weather_code in wind_codes:\n",
    "        return \"WINDY\"\n",
    "    else:\n",
    "        return \"Unknown\"\n"
   ]
  },
  {
   "cell_type": "code",
   "execution_count": 72,
   "id": "c4212bed-9567-4059-9f98-798f9ddf5720",
   "metadata": {},
   "outputs": [
    {
     "name": "stdout",
     "output_type": "stream",
     "text": [
      "Weather forecast for Jammu at 2024-04-07 02:03:37\n",
      "------------------------------------\n",
      "Temperature: 18.71°C\n",
      "Humidity: 52%\n",
      "Description: few clouds\n",
      "The humidity level falls under the category: SEMI HUMID\n",
      "The weather forecast :NORMAL\n",
      "Weather Condition Code: 801\n"
     ]
    }
   ],
   "source": [
    "api_key = 'a390a5f6e318fd86010e2a19fdadd761'\n",
    "cityName = 'Jammu'\n",
    "weatherForecaste(api_key, cityName)"
   ]
  }
 ],
 "metadata": {
  "kernelspec": {
   "display_name": "Python 3 (ipykernel)",
   "language": "python",
   "name": "python3"
  },
  "language_info": {
   "codemirror_mode": {
    "name": "ipython",
    "version": 3
   },
   "file_extension": ".py",
   "mimetype": "text/x-python",
   "name": "python",
   "nbconvert_exporter": "python",
   "pygments_lexer": "ipython3",
   "version": "3.10.9"
  }
 },
 "nbformat": 4,
 "nbformat_minor": 5
}
