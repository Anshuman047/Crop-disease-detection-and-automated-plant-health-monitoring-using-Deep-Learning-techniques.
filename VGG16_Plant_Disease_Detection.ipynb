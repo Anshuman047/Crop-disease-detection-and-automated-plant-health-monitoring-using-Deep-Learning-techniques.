{
  "nbformat": 4,
  "nbformat_minor": 0,
  "metadata": {
    "colab": {
      "provenance": [],
      "gpuType": "T4",
      "toc_visible": true
    },
    "kernelspec": {
      "name": "python3",
      "display_name": "Python 3"
    },
    "language_info": {
      "name": "python"
    },
    "accelerator": "GPU"
  },
  "cells": [
    {
      "cell_type": "code",
      "execution_count": null,
      "metadata": {
        "id": "jmrsnZW_P82k"
      },
      "outputs": [],
      "source": [
        "from keras.layers import Input, Lambda, Dense, Flatten\n",
        "from keras.models import Model\n",
        "from keras.applications.vgg16 import VGG16\n",
        "from keras.applications.vgg16 import preprocess_input\n",
        "from keras.preprocessing import image\n",
        "from keras.preprocessing.image import ImageDataGenerator\n",
        "from keras.models import Sequential\n",
        "from keras import optimizers\n",
        "import numpy as np\n",
        "from glob import glob\n",
        "from google.colab import drive\n",
        "from pathlib import Path\n",
        "import matplotlib.pyplot as plt\n",
        "import tensorflow as tf\n",
        "from keras.models import load_model"
      ]
    },
    {
      "cell_type": "code",
      "source": [
        "drive.mount('/content/drive')\n",
        "train_path = '/content/drive/MyDrive/Monioc_Disease_dataset'"
      ],
      "metadata": {
        "id": "rq7f-JJEpNxs",
        "colab": {
          "base_uri": "https://localhost:8080/"
        },
        "outputId": "0a03ac2b-0c27-4e13-af26-08fffc39a48a"
      },
      "execution_count": null,
      "outputs": [
        {
          "output_type": "stream",
          "name": "stdout",
          "text": [
            "Mounted at /content/drive\n"
          ]
        }
      ]
    },
    {
      "cell_type": "code",
      "source": [
        "IMAGE_SIZE = [224, 224]"
      ],
      "metadata": {
        "id": "nad9rLsKpN3q"
      },
      "execution_count": null,
      "outputs": []
    },
    {
      "cell_type": "code",
      "source": [
        "train_dataset = tf.keras.utils.image_dataset_from_directory(\n",
        "    train_path,\n",
        "    color_mode='rgb',\n",
        "    batch_size=32,\n",
        "    image_size=(224, 224),\n",
        "    shuffle=True,\n",
        "    seed=123,\n",
        "    validation_split=0.2,\n",
        "    subset='training'\n",
        ")\n",
        "\n",
        "test_dataset = tf.keras.utils.image_dataset_from_directory(\n",
        "    train_path,\n",
        "    color_mode='rgb',\n",
        "    batch_size=32,\n",
        "    image_size=(224, 224),\n",
        "    shuffle=True,\n",
        "    seed=344,\n",
        "    validation_split=0.2,\n",
        "    subset='validation'\n",
        ")"
      ],
      "metadata": {
        "id": "BpbWScjcp1Ja",
        "colab": {
          "base_uri": "https://localhost:8080/"
        },
        "outputId": "98f601de-dcab-467d-b577-af46614d8f62"
      },
      "execution_count": null,
      "outputs": [
        {
          "output_type": "stream",
          "name": "stdout",
          "text": [
            "Found 1585 files belonging to 4 classes.\n",
            "Using 1268 files for training.\n",
            "Found 1585 files belonging to 4 classes.\n",
            "Using 317 files for validation.\n"
          ]
        }
      ]
    },
    {
      "cell_type": "code",
      "source": [
        "vgg = VGG16(input_shape=IMAGE_SIZE + [3], weights='imagenet', include_top= False)\n",
        "\n",
        "vgg.trainable = False"
      ],
      "metadata": {
        "id": "dRv-Z_w2pfiy",
        "colab": {
          "base_uri": "https://localhost:8080/"
        },
        "outputId": "f4e0472c-0ac7-4a59-ec8c-34f8f503cac1"
      },
      "execution_count": null,
      "outputs": [
        {
          "output_type": "stream",
          "name": "stdout",
          "text": [
            "Downloading data from https://storage.googleapis.com/tensorflow/keras-applications/vgg16/vgg16_weights_tf_dim_ordering_tf_kernels_notop.h5\n",
            "58889256/58889256 [==============================] - 3s 0us/step\n"
          ]
        }
      ]
    },
    {
      "cell_type": "code",
      "source": [
        "image_batch, label_batch = next(iter(train_dataset))\n",
        "feature_batch = vgg(image_batch)\n",
        "print(feature_batch.shape)"
      ],
      "metadata": {
        "id": "wKK_azFqprJ6",
        "colab": {
          "base_uri": "https://localhost:8080/"
        },
        "outputId": "536f4515-5864-4f30-fd80-a31258c38a53"
      },
      "execution_count": null,
      "outputs": [
        {
          "output_type": "stream",
          "name": "stdout",
          "text": [
            "(32, 7, 7, 512)\n"
          ]
        }
      ]
    },
    {
      "cell_type": "code",
      "source": [
        "folders = glob('/content/drive/MyDrive/Monioc_Disease_dataset/*')\n",
        "print(len(folders))"
      ],
      "metadata": {
        "id": "SLmAuxe0pnMM",
        "colab": {
          "base_uri": "https://localhost:8080/"
        },
        "outputId": "b4b1e2fd-1b0e-4171-c352-babb9cb23dbe"
      },
      "execution_count": null,
      "outputs": [
        {
          "output_type": "stream",
          "name": "stdout",
          "text": [
            "4\n"
          ]
        }
      ]
    },
    {
      "cell_type": "code",
      "source": [
        "x = Flatten()(vgg.output)\n",
        "prediction = Dense(len(folders), activation='softmax')(x)\n",
        "model = Model(inputs=vgg.input, outputs=prediction)\n",
        "model.summary()"
      ],
      "metadata": {
        "id": "9cTg4qUBpzOR",
        "colab": {
          "base_uri": "https://localhost:8080/"
        },
        "outputId": "92fb1f15-c2a6-4b80-fad3-732c6d6dee62"
      },
      "execution_count": null,
      "outputs": [
        {
          "output_type": "stream",
          "name": "stdout",
          "text": [
            "Model: \"model\"\n",
            "_________________________________________________________________\n",
            " Layer (type)                Output Shape              Param #   \n",
            "=================================================================\n",
            " input_1 (InputLayer)        [(None, 224, 224, 3)]     0         \n",
            "                                                                 \n",
            " block1_conv1 (Conv2D)       (None, 224, 224, 64)      1792      \n",
            "                                                                 \n",
            " block1_conv2 (Conv2D)       (None, 224, 224, 64)      36928     \n",
            "                                                                 \n",
            " block1_pool (MaxPooling2D)  (None, 112, 112, 64)      0         \n",
            "                                                                 \n",
            " block2_conv1 (Conv2D)       (None, 112, 112, 128)     73856     \n",
            "                                                                 \n",
            " block2_conv2 (Conv2D)       (None, 112, 112, 128)     147584    \n",
            "                                                                 \n",
            " block2_pool (MaxPooling2D)  (None, 56, 56, 128)       0         \n",
            "                                                                 \n",
            " block3_conv1 (Conv2D)       (None, 56, 56, 256)       295168    \n",
            "                                                                 \n",
            " block3_conv2 (Conv2D)       (None, 56, 56, 256)       590080    \n",
            "                                                                 \n",
            " block3_conv3 (Conv2D)       (None, 56, 56, 256)       590080    \n",
            "                                                                 \n",
            " block3_pool (MaxPooling2D)  (None, 28, 28, 256)       0         \n",
            "                                                                 \n",
            " block4_conv1 (Conv2D)       (None, 28, 28, 512)       1180160   \n",
            "                                                                 \n",
            " block4_conv2 (Conv2D)       (None, 28, 28, 512)       2359808   \n",
            "                                                                 \n",
            " block4_conv3 (Conv2D)       (None, 28, 28, 512)       2359808   \n",
            "                                                                 \n",
            " block4_pool (MaxPooling2D)  (None, 14, 14, 512)       0         \n",
            "                                                                 \n",
            " block5_conv1 (Conv2D)       (None, 14, 14, 512)       2359808   \n",
            "                                                                 \n",
            " block5_conv2 (Conv2D)       (None, 14, 14, 512)       2359808   \n",
            "                                                                 \n",
            " block5_conv3 (Conv2D)       (None, 14, 14, 512)       2359808   \n",
            "                                                                 \n",
            " block5_pool (MaxPooling2D)  (None, 7, 7, 512)         0         \n",
            "                                                                 \n",
            " flatten (Flatten)           (None, 25088)             0         \n",
            "                                                                 \n",
            " dense_1 (Dense)             (None, 4)                 100356    \n",
            "                                                                 \n",
            "=================================================================\n",
            "Total params: 14815044 (56.51 MB)\n",
            "Trainable params: 100356 (392.02 KB)\n",
            "Non-trainable params: 14714688 (56.13 MB)\n",
            "_________________________________________________________________\n"
          ]
        }
      ]
    },
    {
      "cell_type": "code",
      "source": [
        "model.compile(\n",
        "  loss='sparse_categorical_crossentropy',\n",
        "  optimizer = 'adam',\n",
        "  metrics=['accuracy']\n",
        ")"
      ],
      "metadata": {
        "id": "J89zqm42p1Ae"
      },
      "execution_count": null,
      "outputs": []
    },
    {
      "cell_type": "code",
      "source": [
        "r = model.fit(\n",
        "  train_dataset,\n",
        "  validation_data=test_dataset,\n",
        "  epochs=20\n",
        ")"
      ],
      "metadata": {
        "id": "2T1oyuBrVfzj",
        "colab": {
          "base_uri": "https://localhost:8080/"
        },
        "outputId": "f29fe889-a8cf-451e-8023-a7b6dc72586c"
      },
      "execution_count": null,
      "outputs": [
        {
          "output_type": "stream",
          "name": "stdout",
          "text": [
            "Epoch 1/20\n",
            "40/40 [==============================] - 404s 10s/step - loss: 6.7401 - accuracy: 0.7050 - val_loss: 2.7045 - val_accuracy: 0.8517\n",
            "Epoch 2/20\n",
            "40/40 [==============================] - 98s 2s/step - loss: 1.9222 - accuracy: 0.9109 - val_loss: 1.7084 - val_accuracy: 0.9369\n",
            "Epoch 3/20\n",
            "40/40 [==============================] - 100s 2s/step - loss: 0.9143 - accuracy: 0.9598 - val_loss: 1.3060 - val_accuracy: 0.9401\n",
            "Epoch 4/20\n",
            "40/40 [==============================] - 101s 2s/step - loss: 1.1890 - accuracy: 0.9621 - val_loss: 2.2173 - val_accuracy: 0.9148\n",
            "Epoch 5/20\n",
            "40/40 [==============================] - 117s 3s/step - loss: 1.0966 - accuracy: 0.9606 - val_loss: 1.6966 - val_accuracy: 0.9401\n",
            "Epoch 6/20\n",
            "40/40 [==============================] - 111s 2s/step - loss: 1.2223 - accuracy: 0.9756 - val_loss: 1.5592 - val_accuracy: 0.9243\n",
            "Epoch 7/20\n",
            "40/40 [==============================] - 89s 2s/step - loss: 1.6180 - accuracy: 0.9629 - val_loss: 2.4089 - val_accuracy: 0.9369\n",
            "Epoch 8/20\n",
            "40/40 [==============================] - 93s 2s/step - loss: 1.1322 - accuracy: 0.9740 - val_loss: 2.5783 - val_accuracy: 0.9369\n",
            "Epoch 9/20\n",
            "40/40 [==============================] - 94s 2s/step - loss: 1.1072 - accuracy: 0.9756 - val_loss: 3.2462 - val_accuracy: 0.9338\n",
            "Epoch 10/20\n",
            "40/40 [==============================] - 92s 2s/step - loss: 1.3504 - accuracy: 0.9692 - val_loss: 1.7967 - val_accuracy: 0.9401\n",
            "Epoch 11/20\n",
            "40/40 [==============================] - 91s 2s/step - loss: 1.4742 - accuracy: 0.9748 - val_loss: 3.8561 - val_accuracy: 0.9274\n",
            "Epoch 12/20\n",
            "40/40 [==============================] - 85s 2s/step - loss: 1.2194 - accuracy: 0.9724 - val_loss: 2.0515 - val_accuracy: 0.9274\n",
            "Epoch 13/20\n",
            "40/40 [==============================] - 91s 2s/step - loss: 1.3257 - accuracy: 0.9748 - val_loss: 2.6431 - val_accuracy: 0.9117\n",
            "Epoch 14/20\n",
            "40/40 [==============================] - 91s 2s/step - loss: 1.5568 - accuracy: 0.9700 - val_loss: 2.8788 - val_accuracy: 0.9369\n",
            "Epoch 15/20\n",
            "40/40 [==============================] - 90s 2s/step - loss: 1.2129 - accuracy: 0.9700 - val_loss: 3.2742 - val_accuracy: 0.9432\n",
            "Epoch 16/20\n",
            "40/40 [==============================] - 92s 2s/step - loss: 1.3809 - accuracy: 0.9724 - val_loss: 2.6375 - val_accuracy: 0.9495\n",
            "Epoch 17/20\n",
            "40/40 [==============================] - 91s 2s/step - loss: 1.4579 - accuracy: 0.9732 - val_loss: 2.7713 - val_accuracy: 0.9306\n",
            "Epoch 18/20\n",
            "40/40 [==============================] - 94s 2s/step - loss: 1.2660 - accuracy: 0.9763 - val_loss: 2.7240 - val_accuracy: 0.9432\n",
            "Epoch 19/20\n",
            "40/40 [==============================] - 91s 2s/step - loss: 1.7253 - accuracy: 0.9740 - val_loss: 2.9702 - val_accuracy: 0.9338\n",
            "Epoch 20/20\n",
            "40/40 [==============================] - 96s 2s/step - loss: 1.5747 - accuracy: 0.9732 - val_loss: 2.6593 - val_accuracy: 0.9495\n"
          ]
        }
      ]
    },
    {
      "cell_type": "code",
      "source": [
        "model.save('/content/drive/MyDrive/Disease_Model.h5')"
      ],
      "metadata": {
        "id": "3a9wuUgVyRFs",
        "colab": {
          "base_uri": "https://localhost:8080/"
        },
        "outputId": "74f1bea9-b128-46af-94b2-8dde3e10bc65"
      },
      "execution_count": null,
      "outputs": [
        {
          "output_type": "stream",
          "name": "stderr",
          "text": [
            "/usr/local/lib/python3.10/dist-packages/keras/src/engine/training.py:3103: UserWarning: You are saving your model as an HDF5 file via `model.save()`. This file format is considered legacy. We recommend using instead the native Keras format, e.g. `model.save('my_model.keras')`.\n",
            "  saving_api.save_model(\n"
          ]
        }
      ]
    },
    {
      "cell_type": "code",
      "source": [
        "plt.plot(r.history['accuracy'])\n",
        "plt.plot(r.history['val_accuracy'])\n",
        "plt.title('model accuracy')\n",
        "plt.ylabel('accuracy')\n",
        "plt.xlabel('epoch')\n",
        "plt.legend(['train', 'val'], loc='upper left')\n",
        "plt.show()"
      ],
      "metadata": {
        "id": "dk0NiuwhVndh",
        "colab": {
          "base_uri": "https://localhost:8080/",
          "height": 472
        },
        "outputId": "6b9ecd61-5d12-4a5e-f95d-eb086f62537b"
      },
      "execution_count": null,
      "outputs": [
        {
          "output_type": "display_data",
          "data": {
            "text/plain": [
              "<Figure size 640x480 with 1 Axes>"
            ],
            "image/png": "[encoded data removed]"
          },
          "metadata": {}
        }
      ]
    },
    {
      "cell_type": "code",
      "source": [
        "predictive_model = tf.keras.models.load_model('/content/drive/MyDrive/Disease_Model.h5')"
      ],
      "metadata": {
        "id": "WJdr2fOcGeoV"
      },
      "execution_count": null,
      "outputs": []
    },
    {
      "cell_type": "code",
      "source": [
        "model.evaluate(test_dataset)"
      ],
      "metadata": {
        "id": "Aai1ul1DHmGy",
        "colab": {
          "base_uri": "https://localhost:8080/"
        },
        "outputId": "928395b5-3947-4c09-d853-f0d692f1e91d"
      },
      "execution_count": null,
      "outputs": [
        {
          "output_type": "stream",
          "name": "stdout",
          "text": [
            "10/10 [==============================] - 23s 278ms/step - loss: 2.6593 - accuracy: 0.9495\n"
          ]
        },
        {
          "output_type": "execute_result",
          "data": {
            "text/plain": [
              "[2.659292221069336, 0.9495267868041992]"
            ]
          },
          "metadata": {},
          "execution_count": 18
        }
      ]
    }
  ]
}